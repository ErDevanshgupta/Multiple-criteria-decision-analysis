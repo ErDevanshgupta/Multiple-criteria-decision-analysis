{
 "cells": [
  {
   "cell_type": "markdown",
   "metadata": {},
   "source": [
    "# Imprting Libraries"
   ]
  },
  {
   "cell_type": "code",
   "execution_count": 54,
   "metadata": {},
   "outputs": [],
   "source": [
    "import numpy as np "
   ]
  },
  {
   "cell_type": "markdown",
   "metadata": {},
   "source": [
    "# Decision Matrix"
   ]
  },
  {
   "cell_type": "code",
   "execution_count": 55,
   "metadata": {},
   "outputs": [
    {
     "name": "stdout",
     "output_type": "stream",
     "text": [
      "Decision Matrix = \n"
     ]
    },
    {
     "data": {
      "text/plain": [
       "array([[ 9,  7,  1,  2],\n",
       "       [11,  3,  5,  7],\n",
       "       [ 6,  5,  4,  6],\n",
       "       [ 8,  9,  3,  7],\n",
       "       [ 8, 10,  7,  3],\n",
       "       [ 7,  9,  4,  5]])"
      ]
     },
     "execution_count": 55,
     "metadata": {},
     "output_type": "execute_result"
    }
   ],
   "source": [
    "decision_matrix = np.array([\n",
    "    [9, 7, 1, 2],\n",
    "    [11, 3, 5, 7],\n",
    "    [6, 5, 4, 6],\n",
    "    [8, 9, 3, 7],\n",
    "    [8, 10, 7, 3],\n",
    "    [7, 9, 4, 5],\n",
    "])\n",
    "\n",
    "print(\"Decision Matrix = \")\n",
    "decision_matrix"
   ]
  },
  {
   "cell_type": "markdown",
   "metadata": {},
   "source": [
    "# Criteria Weights"
   ]
  },
  {
   "cell_type": "code",
   "execution_count": 56,
   "metadata": {},
   "outputs": [
    {
     "name": "stdout",
     "output_type": "stream",
     "text": [
      "Weights =  [0.4 0.3 0.1 0.2]\n"
     ]
    }
   ],
   "source": [
    "weights = np.array([0.4, 0.3, 0.1, 0.2])\n",
    "\n",
    "print(\"Weights = \",weights)"
   ]
  },
  {
   "cell_type": "markdown",
   "metadata": {},
   "source": [
    "# Normalize Decision Matrix"
   ]
  },
  {
   "cell_type": "code",
   "execution_count": 57,
   "metadata": {},
   "outputs": [
    {
     "name": "stdout",
     "output_type": "stream",
     "text": [
      "Normalize Decision Matrix =  [[0.44179262 0.37686733 0.09284767 0.15249857]\n",
      " [0.53996876 0.16151457 0.46423835 0.533745  ]\n",
      " [0.29452842 0.26919095 0.37139068 0.45749571]\n",
      " [0.39270455 0.48454371 0.27854301 0.533745  ]\n",
      " [0.39270455 0.5383819  0.64993368 0.22874786]\n",
      " [0.34361649 0.48454371 0.37139068 0.38124643]]\n"
     ]
    }
   ],
   "source": [
    "normalized_matrix = decision_matrix / np.sqrt((decision_matrix ** 2).sum(axis = 0))\n",
    "\n",
    "print(\"Normalize Decision Matrix = \",normalized_matrix)"
   ]
  },
  {
   "cell_type": "markdown",
   "metadata": {},
   "source": [
    "# Weighted Normal Matrix"
   ]
  },
  {
   "cell_type": "code",
   "execution_count": 58,
   "metadata": {},
   "outputs": [
    {
     "name": "stdout",
     "output_type": "stream",
     "text": [
      "Weighted Normal Matrix =  [[0.17671705 0.1130602  0.00928477 0.03049971]\n",
      " [0.21598751 0.04845437 0.04642383 0.106749  ]\n",
      " [0.11781137 0.08075729 0.03713907 0.09149914]\n",
      " [0.15708182 0.14536311 0.0278543  0.106749  ]\n",
      " [0.15708182 0.16151457 0.06499337 0.04574957]\n",
      " [0.13744659 0.14536311 0.03713907 0.07624929]]\n"
     ]
    }
   ],
   "source": [
    "weighted_normal_matrix = normalized_matrix * weights\n",
    "\n",
    "print(\"Weighted Normal Matrix = \",weighted_normal_matrix)"
   ]
  },
  {
   "cell_type": "markdown",
   "metadata": {},
   "source": [
    "# Determine Ideal Solution and Negative ideal solution"
   ]
  },
  {
   "cell_type": "code",
   "execution_count": 59,
   "metadata": {},
   "outputs": [
    {
     "name": "stdout",
     "output_type": "stream",
     "text": [
      "Ideal_Solution =  [0.21598751 0.16151457 0.06499337 0.106749  ]\n",
      "Negative_Ideal_Solution =  [0.11781137 0.04845437 0.00928477 0.03049971]\n"
     ]
    }
   ],
   "source": [
    "ideal_solution = np.array([weighted_normal_matrix[:,i].max() if weights[i] > 0 else weighted_normal_matrix[:,i].min() for i in range(len(weights))])\n",
    "\n",
    "print(\"Ideal_Solution = \" ,ideal_solution) \n",
    "\n",
    "negative_Ideal_Solution = np.array([weighted_normal_matrix[:,i].min() if weights[i] > 0 else weighted_normal_matrix[:,i].max() for i in range(len(weights))])\n",
    "\n",
    "print(\"Negative_Ideal_Solution = \" ,negative_Ideal_Solution) "
   ]
  },
  {
   "cell_type": "markdown",
   "metadata": {},
   "source": [
    "# Calculate the sepration Distance"
   ]
  },
  {
   "cell_type": "code",
   "execution_count": 60,
   "metadata": {},
   "outputs": [
    {
     "name": "stdout",
     "output_type": "stream",
     "text": [
      "Eucledian_Distance_Ideal_Solution =  [0.11316977 0.11457502 0.13102944 0.07148468 0.08479864 0.09019778]\n",
      "Negative_Eucledian_Distance_Ideal_Solution =  [0.08742879 0.1297375  0.07443299 0.13073735 0.13289388 0.11245324]\n"
     ]
    }
   ],
   "source": [
    "eucledian_distance_ideal = np.sqrt(((weighted_normal_matrix - ideal_solution) ** 2).sum(axis = 1))\n",
    "\n",
    "print(\"Eucledian_Distance_Ideal_Solution = \" ,eucledian_distance_ideal) \n",
    "\n",
    "negative_eucledian_distance_ideal = np.sqrt(((weighted_normal_matrix - negative_Ideal_Solution) ** 2).sum(axis = 1))\n",
    "\n",
    "print(\"Negative_Eucledian_Distance_Ideal_Solution = \" ,negative_eucledian_distance_ideal) "
   ]
  },
  {
   "cell_type": "markdown",
   "metadata": {},
   "source": [
    "# Calculate relative closeness to Ideal Solution "
   ]
  },
  {
   "cell_type": "code",
   "execution_count": 61,
   "metadata": {},
   "outputs": [
    {
     "name": "stdout",
     "output_type": "stream",
     "text": [
      "Closeness_Coefficients=  [0.56416044 0.46896911 0.63772942 0.35349601 0.38953401 0.44508918]\n"
     ]
    }
   ],
   "source": [
    "closeness_coefficients = eucledian_distance_ideal / (eucledian_distance_ideal + negative_eucledian_distance_ideal)\n",
    "\n",
    "print(\"Closeness_Coefficients= \" ,closeness_coefficients)"
   ]
  },
  {
   "cell_type": "markdown",
   "metadata": {},
   "source": [
    "# Determine the best alternative"
   ]
  },
  {
   "cell_type": "code",
   "execution_count": 62,
   "metadata": {},
   "outputs": [
    {
     "name": "stdout",
     "output_type": "stream",
     "text": [
      "Best Alternative =  2\n"
     ]
    }
   ],
   "source": [
    "best_alternative = np.argmax(closeness_coefficients)\n",
    "\n",
    "print(\"Best Alternative = \" ,best_alternative)"
   ]
  }
 ],
 "metadata": {
  "kernelspec": {
   "display_name": "Python 3",
   "language": "python",
   "name": "python3"
  },
  "language_info": {
   "codemirror_mode": {
    "name": "ipython",
    "version": 3
   },
   "file_extension": ".py",
   "mimetype": "text/x-python",
   "name": "python",
   "nbconvert_exporter": "python",
   "pygments_lexer": "ipython3",
   "version": "3.11.3"
  }
 },
 "nbformat": 4,
 "nbformat_minor": 2
}
